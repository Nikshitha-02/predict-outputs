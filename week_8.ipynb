{
  "nbformat": 4,
  "nbformat_minor": 0,
  "metadata": {
    "colab": {
      "provenance": [],
      "authorship_tag": "ABX9TyMsc1SbuU9r7hlH7zQKa0ZM",
      "include_colab_link": true
    },
    "kernelspec": {
      "name": "python3",
      "display_name": "Python 3"
    },
    "language_info": {
      "name": "python"
    }
  },
  "cells": [
    {
      "cell_type": "markdown",
      "metadata": {
        "id": "view-in-github",
        "colab_type": "text"
      },
      "source": [
        "<a href=\"https://colab.research.google.com/github/Nikshitha-02/predict-outputs/blob/main/week_8.ipynb\" target=\"_parent\"><img src=\"https://colab.research.google.com/assets/colab-badge.svg\" alt=\"Open In Colab\"/></a>"
      ]
    },
    {
      "cell_type": "code",
      "execution_count": null,
      "metadata": {
        "colab": {
          "base_uri": "https://localhost:8080/"
        },
        "id": "dtKd2A8o8owD",
        "outputId": "6dbf995f-6229-4b58-8c05-e280b99aa45f"
      },
      "outputs": [
        {
          "output_type": "stream",
          "name": "stdout",
          "text": [
            "17\n",
            "7\n"
          ]
        }
      ],
      "source": [
        "#1. Write a program to display the last digit of a number.\n",
        "n=int(input(\"\"))\n",
        "h=n%10\n",
        "print(h)"
      ]
    },
    {
      "cell_type": "code",
      "source": [
        "#2. Write a program to check whether the last number (given by the user) is odd or even\n",
        "n=int(input(\"\"))\n",
        "h=n%10\n",
        "if(n%2==0):\n",
        "     print(\"even\")\n",
        "else:\n",
        "  print(\"odd\")"
      ],
      "metadata": {
        "colab": {
          "base_uri": "https://localhost:8080/"
        },
        "id": "C0auVEGf80yx",
        "outputId": "25a2d8e1-3ee1-4b8f-c20b-a50a239b96e9"
      },
      "execution_count": null,
      "outputs": [
        {
          "output_type": "stream",
          "name": "stdout",
          "text": [
            "162\n",
            "even\n"
          ]
        }
      ]
    },
    {
      "cell_type": "code",
      "source": [
        "#3. Write a program to check whether the person is eligible to vote or note\n",
        "n=int(input(\"\"))\n",
        "if(n>=18):\n",
        "  print(\"vote\")\n",
        "else:\n",
        "  print(\"not to vote\")"
      ],
      "metadata": {
        "colab": {
          "base_uri": "https://localhost:8080/"
        },
        "id": "3KgARrSH9SpM",
        "outputId": "d814386e-b36e-4aa1-8c41-e89b72d87a0f"
      },
      "execution_count": null,
      "outputs": [
        {
          "output_type": "stream",
          "name": "stdout",
          "text": [
            "12\n",
            "not to vote\n"
          ]
        }
      ]
    },
    {
      "cell_type": "code",
      "source": [
        "#4. Write a program to display the grade according to the percentage of mark\n",
        "n=int(input(\"\"))\n",
        "if(n>=90):\n",
        "  print(\"A\")\n",
        "elif(89>=n>=70):\n",
        "  print(\"B\")\n",
        "elif(69>=n>=50):\n",
        "  print(\"C\")\n",
        "elif(49>=n>=35):\n",
        "  print(\"D\")\n",
        "else:\n",
        "  print(\"fail\")"
      ],
      "metadata": {
        "colab": {
          "base_uri": "https://localhost:8080/"
        },
        "id": "i3uYmFMR9hyt",
        "outputId": "cc32d423-abce-480d-cca0-4740613906d4"
      },
      "execution_count": null,
      "outputs": [
        {
          "output_type": "stream",
          "name": "stdout",
          "text": [
            "42\n",
            "D\n"
          ]
        }
      ]
    },
    {
      "cell_type": "code",
      "source": [
        "#5. Write a program to display the day in a week according to the number entered by the user\n",
        "n=int(input(\"\"))\n",
        "if(n==1):\n",
        "  print(\"monday\")\n",
        "if(n==2):\n",
        "  print(\"tuesday\")\n",
        "if(n==3):\n",
        "  print(\"wednesday\")\n",
        "if(n==4):\n",
        "  print(\"thursday\")\n",
        "if(n==5):\n",
        "  print(\"friday\")\n",
        "if(n==6):\n",
        "  print(\"saturday\")\n",
        "if(n==7):\n",
        "  print(\"sunday\")"
      ],
      "metadata": {
        "colab": {
          "base_uri": "https://localhost:8080/"
        },
        "id": "GAZVnhgs95pq",
        "outputId": "eac39d18-97d9-4911-ec8d-bec8f90ab9f9"
      },
      "execution_count": null,
      "outputs": [
        {
          "output_type": "stream",
          "name": "stdout",
          "text": [
            "4\n",
            "thursday\n"
          ]
        }
      ]
    },
    {
      "cell_type": "code",
      "source": [
        "#6. Write a program to check whether the number entered is 3 digits or not\n",
        "n=int(input(\"\"))\n",
        "if(100<=n<=999):\n",
        "  print(\" 3 digit number\")\n",
        "else:\n",
        "  print(\"not a 3 digit number\")"
      ],
      "metadata": {
        "colab": {
          "base_uri": "https://localhost:8080/"
        },
        "id": "9JTnQsvJ-n1g",
        "outputId": "09b657b4-d29f-45f9-c961-c68824f1ceb3"
      },
      "execution_count": null,
      "outputs": [
        {
          "output_type": "stream",
          "name": "stdout",
          "text": [
            "1234\n",
            "not a 3 digit number\n"
          ]
        }
      ]
    },
    {
      "cell_type": "code",
      "source": [
        "#7. Write a program to check whether the entered number is positive or not\n",
        "n=int(input(\"\"))\n",
        "if(n>=0):\n",
        "  print(\"positive\")\n",
        "else:\n",
        "  print(\"not positive\")"
      ],
      "metadata": {
        "colab": {
          "base_uri": "https://localhost:8080/"
        },
        "id": "RGTs1eBh-3_t",
        "outputId": "cb794a68-64c3-46a7-f2a2-f17e5afa86c8"
      },
      "execution_count": null,
      "outputs": [
        {
          "output_type": "stream",
          "name": "stdout",
          "text": [
            "-6\n",
            "not positive\n"
          ]
        }
      ]
    },
    {
      "cell_type": "code",
      "source": [
        "#8. Write a program to check whether the entered number is divisible by 8 and 9\n",
        "n=int(input(\"\"))\n",
        "sum=0\n",
        "h=n%10\n",
        "while(n>0):\n",
        "  i=n%10\n",
        "  sum=sum+i\n",
        "  n=n/10\n",
        "if(h%8==0 and sum%9==0):\n",
        "  print(\"number divisible by 8 and 9\")\n",
        "else:\n",
        "    print(\"number is not divisible by 8 and 9\")"
      ],
      "metadata": {
        "colab": {
          "base_uri": "https://localhost:8080/"
        },
        "id": "_v8tUlnc_JkX",
        "outputId": "1641fad1-3a20-46fe-9e96-b92681a6cee9"
      },
      "execution_count": null,
      "outputs": [
        {
          "output_type": "stream",
          "name": "stdout",
          "text": [
            "128\n",
            "number is not divisible by 8 and 9\n"
          ]
        }
      ]
    },
    {
      "cell_type": "code",
      "source": [
        "#9. Write a program to find the largest of three number\n",
        "a=int(input(\"\"))\n",
        "b=int(input(\"\"))\n",
        "c=int(input(\"\"))\n",
        "if(a>b and a>c):\n",
        "  print(\"a is large\")\n",
        "if(b>a and b>c):\n",
        "  print(\"b is large\")\n",
        "if(c>b and c>a):\n",
        "  print(\"c is large\")"
      ],
      "metadata": {
        "colab": {
          "base_uri": "https://localhost:8080/"
        },
        "id": "mW1U9-mv_zZ5",
        "outputId": "6de7264d-22f7-4a5d-dde6-2685a0f97b59"
      },
      "execution_count": null,
      "outputs": [
        {
          "output_type": "stream",
          "name": "stdout",
          "text": [
            "8\n",
            "5\n",
            "3\n",
            "a is large\n"
          ]
        }
      ]
    },
    {
      "cell_type": "code",
      "source": [
        "#10.Write a program to check whether the entered character is vowel or not\n",
        "n=(input(\"\"))\n",
        "if(n=='a' or n=='e' or n=='i' or n=='o' or n=='u'):\n",
        "  print(\"vowel\")\n",
        "else:\n",
        "  print(\"not vowel\")"
      ],
      "metadata": {
        "colab": {
          "base_uri": "https://localhost:8080/"
        },
        "id": "gYZaRpT6Acr3",
        "outputId": "c0be238d-63a4-4d73-adbc-4bb462196745"
      },
      "execution_count": null,
      "outputs": [
        {
          "output_type": "stream",
          "name": "stdout",
          "text": [
            "h\n",
            "not vowel\n"
          ]
        }
      ]
    },
    {
      "cell_type": "code",
      "source": [
        "# assignment 2\n",
        "#1. Write a program to print the following number pattern using a loop.\n",
        "#1\n",
        "#1 2\n",
        "#1 2 3\n",
        "#1 2 3 4\n",
        "#1 2 3 4 5\n",
        "\n",
        "n=int(input(\"\"))\n",
        "for i in range(1,n+1):\n",
        "  for j in range(1,i+1):\n",
        "    print(j,end=\"\")\n",
        "  print()"
      ],
      "metadata": {
        "colab": {
          "base_uri": "https://localhost:8080/"
        },
        "id": "2xVdF2pGAro-",
        "outputId": "eda95665-8ff8-42ce-d5cb-50969ccc9414"
      },
      "execution_count": null,
      "outputs": [
        {
          "output_type": "stream",
          "name": "stdout",
          "text": [
            "5\n",
            "1\n",
            "12\n",
            "123\n",
            "1234\n",
            "12345\n"
          ]
        }
      ]
    },
    {
      "cell_type": "code",
      "source": [
        "#2. Calculate the sum of all numbers from 1 to a given number\n",
        "n=int(input(\"\"))\n",
        "sum=0\n",
        "for i in range(1,n+1):\n",
        "  sum=sum+i\n",
        "print(sum)"
      ],
      "metadata": {
        "colab": {
          "base_uri": "https://localhost:8080/"
        },
        "id": "ljM4aIC7BG7D",
        "outputId": "c69da447-cfac-40e4-8b06-49099bab1c82"
      },
      "execution_count": null,
      "outputs": [
        {
          "output_type": "stream",
          "name": "stdout",
          "text": [
            "10\n",
            "55\n"
          ]
        }
      ]
    },
    {
      "cell_type": "code",
      "source": [
        "#3. Write a program to display only those numbers from a list [12, 75, 150, 180, 145, 525, 50] that satisfy the following conditions\n",
        "#1. The number must be divisible by five\n",
        "#2. If the number is greater than 150, then skip it and move to the next number\n",
        "#3. If the number is greater than 500, then stop the loop\n",
        "n=[12,75,150,180,145,525,50]\n",
        "for h in n:\n",
        "  if h>500:\n",
        "    break\n",
        "  if h>150:\n",
        "    continue\n",
        "  if h%5==0 :\n",
        "    print(h)"
      ],
      "metadata": {
        "colab": {
          "base_uri": "https://localhost:8080/"
        },
        "id": "HQXEXj0qBSEH",
        "outputId": "9defbd11-b580-4af8-9bf1-65c47f7211bb"
      },
      "execution_count": null,
      "outputs": [
        {
          "output_type": "stream",
          "name": "stdout",
          "text": [
            "75\n",
            "150\n",
            "145\n"
          ]
        }
      ]
    },
    {
      "cell_type": "code",
      "source": [
        "#4. Write a program to count the total number of digits in a number using a while loop.\n",
        "num=int(input(\"\"))\n",
        "count=0\n",
        "while(num>0):\n",
        "   num//=10\n",
        "   count+=1\n",
        "print(count)"
      ],
      "metadata": {
        "colab": {
          "base_uri": "https://localhost:8080/"
        },
        "id": "GK3oh8gMB7BP",
        "outputId": "bca5494d-bc5e-4452-98f4-d4149cd43258"
      },
      "execution_count": null,
      "outputs": [
        {
          "output_type": "stream",
          "name": "stdout",
          "text": [
            "12345\n",
            "5\n"
          ]
        }
      ]
    },
    {
      "cell_type": "code",
      "source": [
        "#5. Write a program to print list [10, 20, 30, 40, 50] in reverse order using a loop\n",
        "list=[10,20,30,40,50]\n",
        "for i in range(len(list)-1,-1,-1):\n",
        "  print(list[i],end=\" \")"
      ],
      "metadata": {
        "id": "Rbl-CwYJCSOi",
        "colab": {
          "base_uri": "https://localhost:8080/"
        },
        "outputId": "fdeac0a9-33f4-47a9-88a1-353f3345062c"
      },
      "execution_count": 22,
      "outputs": [
        {
          "output_type": "stream",
          "name": "stdout",
          "text": [
            "50 40 30 20 10 "
          ]
        }
      ]
    },
    {
      "cell_type": "code",
      "source": [
        "#6. Display numbers from -10 to -1 using for loop\n",
        "for i in range (-10,0):\n",
        "  print(i, end=\" \")"
      ],
      "metadata": {
        "colab": {
          "base_uri": "https://localhost:8080/"
        },
        "id": "aX1OcFOQNHWi",
        "outputId": "227e53db-fd1f-4e25-d655-ca7afb144e50"
      },
      "execution_count": 24,
      "outputs": [
        {
          "output_type": "stream",
          "name": "stdout",
          "text": [
            "-10 -9 -8 -7 -6 -5 -4 -3 -2 -1 "
          ]
        }
      ]
    },
    {
      "cell_type": "code",
      "source": [
        "# 7.Write a program to print prime numbers between 1 and 100\n",
        "for num in range(1,100):\n",
        "  if num>1:\n",
        "    for i in range(2,num):\n",
        "      if(num%i)==0:\n",
        "        break\n",
        "    else:\n",
        "      print(num)\n"
      ],
      "metadata": {
        "colab": {
          "base_uri": "https://localhost:8080/"
        },
        "id": "kAiA0uvbNtpP",
        "outputId": "cb4ca6ca-fbb0-4fb1-eac7-3b0f8b9bd051"
      },
      "execution_count": 34,
      "outputs": [
        {
          "output_type": "stream",
          "name": "stdout",
          "text": [
            "2\n",
            "3\n",
            "5\n",
            "7\n",
            "11\n",
            "13\n",
            "17\n",
            "19\n",
            "23\n",
            "29\n",
            "31\n",
            "37\n",
            "41\n",
            "43\n",
            "47\n",
            "53\n",
            "59\n",
            "61\n",
            "67\n",
            "71\n",
            "73\n",
            "79\n",
            "83\n",
            "89\n",
            "97\n"
          ]
        }
      ]
    },
    {
      "cell_type": "code",
      "source": [
        "#8. Write a program to print Fibonacci series up to 10 terms\n",
        "a,b=0,1\n",
        "print(a,b,end=\" \")\n",
        "for i in range (8):\n",
        "  a,b=b,a+b\n",
        "  print(b,end=\" \")"
      ],
      "metadata": {
        "colab": {
          "base_uri": "https://localhost:8080/"
        },
        "id": "Vs2Y-vqEOPcG",
        "outputId": "946926b9-37e3-44da-9ad3-6574546d2396"
      },
      "execution_count": 35,
      "outputs": [
        {
          "output_type": "stream",
          "name": "stdout",
          "text": [
            "0 1 1 2 3 5 8 13 21 34 "
          ]
        }
      ]
    },
    {
      "cell_type": "code",
      "source": [
        "#9. Write a program to use the loop to find the factorial of a given number.\n",
        "n=int(input(\"\"))\n",
        "m=1\n",
        "for i in range(1,n+1):\n",
        "  m=m*i\n",
        "print(m)\n"
      ],
      "metadata": {
        "colab": {
          "base_uri": "https://localhost:8080/"
        },
        "id": "8VrPcgXLQhZ1",
        "outputId": "6f2b86e7-7661-43e3-8c69-1c4c3958b648"
      },
      "execution_count": 43,
      "outputs": [
        {
          "output_type": "stream",
          "name": "stdout",
          "text": [
            "5\n",
            "120\n"
          ]
        }
      ]
    },
    {
      "cell_type": "code",
      "source": [
        "#10. Write a program to print reverse a given integer number\n",
        "n=int(input(\"\"))\n",
        "rev=0\n",
        "while(n>0):\n",
        "  digit=n%10\n",
        "  rev=rev*10+digit\n",
        "  n//=10\n",
        "print(rev)"
      ],
      "metadata": {
        "colab": {
          "base_uri": "https://localhost:8080/"
        },
        "collapsed": true,
        "id": "0dDK9t9sRYQg",
        "outputId": "d0506b28-a5d3-407f-82a6-a36b5bd441bf"
      },
      "execution_count": 47,
      "outputs": [
        {
          "output_type": "stream",
          "name": "stdout",
          "text": [
            "123\n",
            "321\n"
          ]
        }
      ]
    },
    {
      "cell_type": "code",
      "source": [],
      "metadata": {
        "id": "GiynSupMUle1"
      },
      "execution_count": null,
      "outputs": []
    }
  ]
}