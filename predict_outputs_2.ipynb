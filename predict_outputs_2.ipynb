{
  "nbformat": 4,
  "nbformat_minor": 0,
  "metadata": {
    "colab": {
      "provenance": [],
      "authorship_tag": "ABX9TyOCsxbY9kM8ADB/kWSu29Jj",
      "include_colab_link": true
    },
    "kernelspec": {
      "name": "python3",
      "display_name": "Python 3"
    },
    "language_info": {
      "name": "python"
    }
  },
  "cells": [
    {
      "cell_type": "markdown",
      "metadata": {
        "id": "view-in-github",
        "colab_type": "text"
      },
      "source": [
        "<a href=\"https://colab.research.google.com/github/Nikshitha-02/predict-outputs/blob/main/predict_outputs_2.ipynb\" target=\"_parent\"><img src=\"https://colab.research.google.com/assets/colab-badge.svg\" alt=\"Open In Colab\"/></a>"
      ]
    },
    {
      "cell_type": "code",
      "execution_count": 16,
      "metadata": {
        "colab": {
          "base_uri": "https://localhost:8080/"
        },
        "id": "dFv8G3m5dVOm",
        "outputId": "d8fe65d9-f8f9-4067-e2cc-d7488ae36078"
      },
      "outputs": [
        {
          "output_type": "stream",
          "name": "stdout",
          "text": [
            "2\n",
            "(1, 2)\n",
            "(5, (7, 5, (1, 2)), 5, 4, 5, (7, 5, (1, 2)), 5, 4, 5, (7, 5, (1, 2)), 5, 4)\n",
            "4\n",
            "(5, (7, 5, (1, 2)), 5, 4, 7, 8, (4, 5))\n"
          ]
        }
      ],
      "source": [
        "a=(5,(7,5,(1,2)),5,4)\n",
        "print(a.count(5))\n",
        "print(a[1][2])\n",
        "print(a*3)\n",
        "print(len(a))\n",
        "b=(7,8,(4,5))\n",
        "print(a+b)\n"
      ]
    },
    {
      "cell_type": "code",
      "source": [
        "x=[3,7,9,12,15]\n",
        "y=x[::-1]\n",
        "print(y[1]+x[-3])\n",
        "\n"
      ],
      "metadata": {
        "colab": {
          "base_uri": "https://localhost:8080/"
        },
        "id": "4JsqQZ8GeazD",
        "outputId": "0a2df558-9222-45d4-8f14-6dc09e328079"
      },
      "execution_count": 17,
      "outputs": [
        {
          "output_type": "stream",
          "name": "stdout",
          "text": [
            "21\n"
          ]
        }
      ]
    },
    {
      "cell_type": "code",
      "source": [
        "word=\"whatever\"\n",
        "print(word[:3]+word[-1]+word[4:2:-1])\n"
      ],
      "metadata": {
        "colab": {
          "base_uri": "https://localhost:8080/"
        },
        "id": "WEjM3AKMfkJ2",
        "outputId": "562b8518-b6e0-4398-c278-74362ce21170"
      },
      "execution_count": 18,
      "outputs": [
        {
          "output_type": "stream",
          "name": "stdout",
          "text": [
            "wharet\n"
          ]
        }
      ]
    },
    {
      "cell_type": "code",
      "source": [
        "nums={3,6,9,12}\n",
        "nums.add(15)\n",
        "nums.remove(6)\n",
        "nums.update([18,21])\n",
        "nums.discard(99)\n",
        "print(sum(nums))\n"
      ],
      "metadata": {
        "colab": {
          "base_uri": "https://localhost:8080/"
        },
        "id": "xaygYYFBgLK8",
        "outputId": "19d3d897-9841-4a1c-a252-e529cff3b05a"
      },
      "execution_count": 19,
      "outputs": [
        {
          "output_type": "stream",
          "name": "stdout",
          "text": [
            "78\n"
          ]
        }
      ]
    },
    {
      "cell_type": "code",
      "source": [
        "info={\"name\":\"sara\",\"age\":18,\"state\":\"kerala\"}\n",
        "info[\"age\"]+=4\n",
        "info[\"country\"]=\"india\"\n",
        "print(info.keys())\n",
        "print(info.get(\"state\",\"unknown\"))"
      ],
      "metadata": {
        "colab": {
          "base_uri": "https://localhost:8080/"
        },
        "id": "7d9fPk6qgzlu",
        "outputId": "ee968e66-b94f-4c50-eabb-7709c2adc766"
      },
      "execution_count": 20,
      "outputs": [
        {
          "output_type": "stream",
          "name": "stdout",
          "text": [
            "dict_keys(['name', 'age', 'state', 'country'])\n",
            "kerala\n"
          ]
        }
      ]
    },
    {
      "cell_type": "code",
      "source": [
        "num_list=[5,10,15,20,25]\n",
        "res=list(map(lambda x:x%3,num_list))\n",
        "print(res)"
      ],
      "metadata": {
        "colab": {
          "base_uri": "https://localhost:8080/"
        },
        "id": "IzXFybLZiIUn",
        "outputId": "d11dad67-05d3-49d3-ca33-6708c1668819"
      },
      "execution_count": 21,
      "outputs": [
        {
          "output_type": "stream",
          "name": "stdout",
          "text": [
            "[2, 1, 0, 2, 1]\n"
          ]
        }
      ]
    },
    {
      "cell_type": "code",
      "source": [
        "ages=[15,22,18,30,12,40,90]\n",
        "adults=list(filter(lambda x:x>=18,ages))\n",
        "print(len(adults))"
      ],
      "metadata": {
        "colab": {
          "base_uri": "https://localhost:8080/"
        },
        "id": "3kn1Z_9-ir3H",
        "outputId": "1f2cbe60-dbf3-466a-bc4b-1ed7d21a548a"
      },
      "execution_count": 22,
      "outputs": [
        {
          "output_type": "stream",
          "name": "stdout",
          "text": [
            "5\n"
          ]
        }
      ]
    },
    {
      "cell_type": "code",
      "source": [
        "from functools import reduce\n",
        "nums=[1,2,3,4,5]\n",
        "results=reduce(lambda x,y:x*y,nums)\n",
        "print(results)"
      ],
      "metadata": {
        "colab": {
          "base_uri": "https://localhost:8080/"
        },
        "id": "MUBt8hzwjE_M",
        "outputId": "212b0e66-c8fa-40ff-ea0c-4658a280ed03"
      },
      "execution_count": 23,
      "outputs": [
        {
          "output_type": "stream",
          "name": "stdout",
          "text": [
            "120\n"
          ]
        }
      ]
    },
    {
      "cell_type": "code",
      "source": [
        "alpha=[\"a\",\"b\",\"c\",\"d\"]\n",
        "print(alpha.pop(2)+alpha[-1])\n",
        "print(alpha)"
      ],
      "metadata": {
        "colab": {
          "base_uri": "https://localhost:8080/"
        },
        "id": "BZfHfkfdjed6",
        "outputId": "5bdfefc3-edc0-4376-eb18-e6bb793c5f7d"
      },
      "execution_count": 24,
      "outputs": [
        {
          "output_type": "stream",
          "name": "stdout",
          "text": [
            "cd\n",
            "['a', 'b', 'd']\n"
          ]
        }
      ]
    },
    {
      "cell_type": "code",
      "source": [
        "x=10\n",
        "y=3\n",
        "x,y=x%y,x//y\n",
        "print(x,y)"
      ],
      "metadata": {
        "colab": {
          "base_uri": "https://localhost:8080/"
        },
        "id": "aJatXi0Gjyig",
        "outputId": "e687b460-6d8c-418c-cbc4-f7c27aaaed2a"
      },
      "execution_count": 25,
      "outputs": [
        {
          "output_type": "stream",
          "name": "stdout",
          "text": [
            "1 3\n"
          ]
        }
      ]
    },
    {
      "cell_type": "code",
      "source": [],
      "metadata": {
        "id": "Lsr5WHhYkOBx"
      },
      "execution_count": null,
      "outputs": []
    }
  ]
}